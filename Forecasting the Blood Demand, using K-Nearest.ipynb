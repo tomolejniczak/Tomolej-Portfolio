{
 "cells": [
  {
   "cell_type": "code",
   "execution_count": 2,
   "id": "1863522c",
   "metadata": {},
   "outputs": [],
   "source": [
    "import numpy as np\n",
    "import pandas as pd\n",
    "from sklearn.neighbors import KNeighborsRegressor\n",
    "from sklearn.metrics import mean_absolute_error, mean_squared_error\n",
    "from datetime import datetime\n",
    "from sklearn.model_selection import train_test_split"
   ]
  },
  {
   "cell_type": "code",
   "execution_count": 3,
   "id": "92659d68",
   "metadata": {
    "scrolled": true
   },
   "outputs": [
    {
     "data": {
      "text/html": [
       "<div>\n",
       "<style scoped>\n",
       "    .dataframe tbody tr th:only-of-type {\n",
       "        vertical-align: middle;\n",
       "    }\n",
       "\n",
       "    .dataframe tbody tr th {\n",
       "        vertical-align: top;\n",
       "    }\n",
       "\n",
       "    .dataframe thead th {\n",
       "        text-align: right;\n",
       "    }\n",
       "</style>\n",
       "<table border=\"1\" class=\"dataframe\">\n",
       "  <thead>\n",
       "    <tr style=\"text-align: right;\">\n",
       "      <th></th>\n",
       "      <th>Financial Year</th>\n",
       "      <th>Bag Number</th>\n",
       "      <th>Status Description</th>\n",
       "      <th>Blood Group</th>\n",
       "      <th>RH</th>\n",
       "      <th>Blood Classification</th>\n",
       "      <th>Stock Creation Date</th>\n",
       "      <th>Stock Issue Date</th>\n",
       "      <th>Expiry Date</th>\n",
       "    </tr>\n",
       "  </thead>\n",
       "  <tbody>\n",
       "    <tr>\n",
       "      <th>0</th>\n",
       "      <td>2017-2018</td>\n",
       "      <td>112PR</td>\n",
       "      <td>Issued</td>\n",
       "      <td>A</td>\n",
       "      <td>POSITIVE</td>\n",
       "      <td>PACKED RED CELLS</td>\n",
       "      <td>2018-01-01</td>\n",
       "      <td>2018-01-03</td>\n",
       "      <td>2018-02-09</td>\n",
       "    </tr>\n",
       "    <tr>\n",
       "      <th>1</th>\n",
       "      <td>2017-2018</td>\n",
       "      <td>118PR</td>\n",
       "      <td>Issued</td>\n",
       "      <td>A</td>\n",
       "      <td>POSITIVE</td>\n",
       "      <td>PACKED RED CELLS</td>\n",
       "      <td>2017-12-31</td>\n",
       "      <td>2017-12-31</td>\n",
       "      <td>2018-01-29</td>\n",
       "    </tr>\n",
       "    <tr>\n",
       "      <th>2</th>\n",
       "      <td>2017-2018</td>\n",
       "      <td>163PR</td>\n",
       "      <td>Issued</td>\n",
       "      <td>O</td>\n",
       "      <td>POSITIVE</td>\n",
       "      <td>PACKED RED CELLS</td>\n",
       "      <td>2018-03-27</td>\n",
       "      <td>2018-03-31</td>\n",
       "      <td>2018-05-07</td>\n",
       "    </tr>\n",
       "    <tr>\n",
       "      <th>3</th>\n",
       "      <td>2017-2018</td>\n",
       "      <td>7728PL</td>\n",
       "      <td>Issued</td>\n",
       "      <td>B</td>\n",
       "      <td>POSITIVE</td>\n",
       "      <td>PLASMA</td>\n",
       "      <td>2017-10-02</td>\n",
       "      <td>2017-10-22</td>\n",
       "      <td>2018-10-02</td>\n",
       "    </tr>\n",
       "    <tr>\n",
       "      <th>4</th>\n",
       "      <td>2017-2018</td>\n",
       "      <td>7728CY</td>\n",
       "      <td>Expired</td>\n",
       "      <td>B</td>\n",
       "      <td>POSITIVE</td>\n",
       "      <td>CRYO</td>\n",
       "      <td>2017-10-02</td>\n",
       "      <td>NaT</td>\n",
       "      <td>2018-10-02</td>\n",
       "    </tr>\n",
       "    <tr>\n",
       "      <th>...</th>\n",
       "      <td>...</td>\n",
       "      <td>...</td>\n",
       "      <td>...</td>\n",
       "      <td>...</td>\n",
       "      <td>...</td>\n",
       "      <td>...</td>\n",
       "      <td>...</td>\n",
       "      <td>...</td>\n",
       "      <td>...</td>\n",
       "    </tr>\n",
       "    <tr>\n",
       "      <th>40828</th>\n",
       "      <td>2018-2019</td>\n",
       "      <td>8927PR</td>\n",
       "      <td>Expired</td>\n",
       "      <td>B</td>\n",
       "      <td>POSITIVE</td>\n",
       "      <td>PACKED RED CELLS</td>\n",
       "      <td>2018-09-28</td>\n",
       "      <td>NaT</td>\n",
       "      <td>2018-11-08</td>\n",
       "    </tr>\n",
       "    <tr>\n",
       "      <th>40829</th>\n",
       "      <td>2018-2019</td>\n",
       "      <td>8936PR</td>\n",
       "      <td>Expired</td>\n",
       "      <td>AB</td>\n",
       "      <td>POSITIVE</td>\n",
       "      <td>PACKED RED CELLS</td>\n",
       "      <td>2018-09-30</td>\n",
       "      <td>NaT</td>\n",
       "      <td>2018-11-10</td>\n",
       "    </tr>\n",
       "    <tr>\n",
       "      <th>40830</th>\n",
       "      <td>2018-2019</td>\n",
       "      <td>8938PR</td>\n",
       "      <td>Expired</td>\n",
       "      <td>O</td>\n",
       "      <td>POSITIVE</td>\n",
       "      <td>PACKED RED CELLS</td>\n",
       "      <td>2018-09-30</td>\n",
       "      <td>NaT</td>\n",
       "      <td>2018-11-10</td>\n",
       "    </tr>\n",
       "    <tr>\n",
       "      <th>40831</th>\n",
       "      <td>2018-2019</td>\n",
       "      <td>8952</td>\n",
       "      <td>Expired</td>\n",
       "      <td>A</td>\n",
       "      <td>POSITIVE</td>\n",
       "      <td>WHOLE BLOOD</td>\n",
       "      <td>2018-09-30</td>\n",
       "      <td>NaT</td>\n",
       "      <td>2018-11-03</td>\n",
       "    </tr>\n",
       "    <tr>\n",
       "      <th>40832</th>\n",
       "      <td>2018-2019</td>\n",
       "      <td>8953PR</td>\n",
       "      <td>Expired</td>\n",
       "      <td>O</td>\n",
       "      <td>POSITIVE</td>\n",
       "      <td>PACKED RED CELLS</td>\n",
       "      <td>2018-09-30</td>\n",
       "      <td>NaT</td>\n",
       "      <td>2018-11-10</td>\n",
       "    </tr>\n",
       "  </tbody>\n",
       "</table>\n",
       "<p>40833 rows × 9 columns</p>\n",
       "</div>"
      ],
      "text/plain": [
       "      Financial Year Bag Number Status Description Blood Group        RH  \\\n",
       "0          2017-2018      112PR             Issued           A  POSITIVE   \n",
       "1          2017-2018      118PR             Issued           A  POSITIVE   \n",
       "2          2017-2018      163PR             Issued           O  POSITIVE   \n",
       "3          2017-2018     7728PL             Issued           B  POSITIVE   \n",
       "4          2017-2018     7728CY            Expired           B  POSITIVE   \n",
       "...              ...        ...                ...         ...       ...   \n",
       "40828      2018-2019     8927PR            Expired           B  POSITIVE   \n",
       "40829      2018-2019     8936PR            Expired          AB  POSITIVE   \n",
       "40830      2018-2019     8938PR            Expired           O  POSITIVE   \n",
       "40831      2018-2019       8952            Expired           A  POSITIVE   \n",
       "40832      2018-2019     8953PR            Expired           O  POSITIVE   \n",
       "\n",
       "      Blood Classification Stock Creation Date Stock Issue Date Expiry Date  \n",
       "0         PACKED RED CELLS          2018-01-01       2018-01-03  2018-02-09  \n",
       "1         PACKED RED CELLS          2017-12-31       2017-12-31  2018-01-29  \n",
       "2         PACKED RED CELLS          2018-03-27       2018-03-31  2018-05-07  \n",
       "3                   PLASMA          2017-10-02       2017-10-22  2018-10-02  \n",
       "4                     CRYO          2017-10-02              NaT  2018-10-02  \n",
       "...                    ...                 ...              ...         ...  \n",
       "40828     PACKED RED CELLS          2018-09-28              NaT  2018-11-08  \n",
       "40829     PACKED RED CELLS          2018-09-30              NaT  2018-11-10  \n",
       "40830     PACKED RED CELLS          2018-09-30              NaT  2018-11-10  \n",
       "40831          WHOLE BLOOD          2018-09-30              NaT  2018-11-03  \n",
       "40832     PACKED RED CELLS          2018-09-30              NaT  2018-11-10  \n",
       "\n",
       "[40833 rows x 9 columns]"
      ]
     },
     "execution_count": 3,
     "metadata": {},
     "output_type": "execute_result"
    }
   ],
   "source": [
    "df = pd.read_excel('IMB821_for_students.xlsx',sheet_name ='raw_data')\n",
    "df"
   ]
  },
  {
   "cell_type": "code",
   "execution_count": 4,
   "id": "2c7ba0f0",
   "metadata": {},
   "outputs": [
    {
     "name": "stdout",
     "output_type": "stream",
     "text": [
      "<class 'pandas.core.frame.DataFrame'>\n",
      "RangeIndex: 40833 entries, 0 to 40832\n",
      "Data columns (total 9 columns):\n",
      " #   Column                Non-Null Count  Dtype         \n",
      "---  ------                --------------  -----         \n",
      " 0   Financial Year        40833 non-null  object        \n",
      " 1   Bag Number            40833 non-null  object        \n",
      " 2   Status Description    40833 non-null  object        \n",
      " 3   Blood Group           40833 non-null  object        \n",
      " 4   RH                    40833 non-null  object        \n",
      " 5   Blood Classification  40833 non-null  object        \n",
      " 6   Stock Creation Date   40833 non-null  datetime64[ns]\n",
      " 7   Stock Issue Date      35249 non-null  datetime64[ns]\n",
      " 8   Expiry Date           40830 non-null  datetime64[ns]\n",
      "dtypes: datetime64[ns](3), object(6)\n",
      "memory usage: 2.8+ MB\n"
     ]
    }
   ],
   "source": [
    "df.info()"
   ]
  },
  {
   "cell_type": "code",
   "execution_count": 7,
   "id": "c89020d4",
   "metadata": {},
   "outputs": [
    {
     "data": {
      "text/plain": [
       "Financial Year          0\n",
       "Bag Number              0\n",
       "Status Description      0\n",
       "Blood Group             0\n",
       "RH                      0\n",
       "Blood Classification    0\n",
       "Stock Creation Date     0\n",
       "Stock Issue Date        0\n",
       "Expiry Date             3\n",
       "dtype: int64"
      ]
     },
     "execution_count": 7,
     "metadata": {},
     "output_type": "execute_result"
    }
   ],
   "source": [
    "df.isna().sum()"
   ]
  },
  {
   "cell_type": "code",
   "execution_count": 8,
   "id": "2a6a9ad9",
   "metadata": {},
   "outputs": [],
   "source": [
    "# Drop rows with null values in the 'Stock Issue Date' column\n",
    "df.dropna(subset=['Stock Issue Date'], inplace=True)"
   ]
  },
  {
   "cell_type": "code",
   "execution_count": 9,
   "id": "b342e2a1",
   "metadata": {},
   "outputs": [
    {
     "data": {
      "text/plain": [
       "Financial Year          0\n",
       "Bag Number              0\n",
       "Status Description      0\n",
       "Blood Group             0\n",
       "RH                      0\n",
       "Blood Classification    0\n",
       "Stock Creation Date     0\n",
       "Stock Issue Date        0\n",
       "Expiry Date             3\n",
       "dtype: int64"
      ]
     },
     "execution_count": 9,
     "metadata": {},
     "output_type": "execute_result"
    }
   ],
   "source": [
    "df.isna().sum()"
   ]
  },
  {
   "cell_type": "code",
   "execution_count": 10,
   "id": "8e0af2cc",
   "metadata": {},
   "outputs": [],
   "source": [
    "# Extract year and week\n",
    "df['Year'] = df['Stock Issue Date'].dt.year\n",
    "df['Week'] = df['Stock Issue Date'].dt.isocalendar().week"
   ]
  },
  {
   "cell_type": "code",
   "execution_count": 11,
   "id": "35ae3811",
   "metadata": {
    "scrolled": true
   },
   "outputs": [
    {
     "data": {
      "text/html": [
       "<div>\n",
       "<style scoped>\n",
       "    .dataframe tbody tr th:only-of-type {\n",
       "        vertical-align: middle;\n",
       "    }\n",
       "\n",
       "    .dataframe tbody tr th {\n",
       "        vertical-align: top;\n",
       "    }\n",
       "\n",
       "    .dataframe thead th {\n",
       "        text-align: right;\n",
       "    }\n",
       "</style>\n",
       "<table border=\"1\" class=\"dataframe\">\n",
       "  <thead>\n",
       "    <tr style=\"text-align: right;\">\n",
       "      <th></th>\n",
       "      <th>Financial Year</th>\n",
       "      <th>Bag Number</th>\n",
       "      <th>Status Description</th>\n",
       "      <th>Blood Group</th>\n",
       "      <th>RH</th>\n",
       "      <th>Blood Classification</th>\n",
       "      <th>Stock Creation Date</th>\n",
       "      <th>Stock Issue Date</th>\n",
       "      <th>Expiry Date</th>\n",
       "      <th>Year</th>\n",
       "      <th>Week</th>\n",
       "    </tr>\n",
       "  </thead>\n",
       "  <tbody>\n",
       "    <tr>\n",
       "      <th>0</th>\n",
       "      <td>2017-2018</td>\n",
       "      <td>112PR</td>\n",
       "      <td>Issued</td>\n",
       "      <td>A</td>\n",
       "      <td>POSITIVE</td>\n",
       "      <td>PACKED RED CELLS</td>\n",
       "      <td>2018-01-01</td>\n",
       "      <td>2018-01-03</td>\n",
       "      <td>2018-02-09</td>\n",
       "      <td>2018</td>\n",
       "      <td>1</td>\n",
       "    </tr>\n",
       "    <tr>\n",
       "      <th>1</th>\n",
       "      <td>2017-2018</td>\n",
       "      <td>118PR</td>\n",
       "      <td>Issued</td>\n",
       "      <td>A</td>\n",
       "      <td>POSITIVE</td>\n",
       "      <td>PACKED RED CELLS</td>\n",
       "      <td>2017-12-31</td>\n",
       "      <td>2017-12-31</td>\n",
       "      <td>2018-01-29</td>\n",
       "      <td>2017</td>\n",
       "      <td>52</td>\n",
       "    </tr>\n",
       "    <tr>\n",
       "      <th>2</th>\n",
       "      <td>2017-2018</td>\n",
       "      <td>163PR</td>\n",
       "      <td>Issued</td>\n",
       "      <td>O</td>\n",
       "      <td>POSITIVE</td>\n",
       "      <td>PACKED RED CELLS</td>\n",
       "      <td>2018-03-27</td>\n",
       "      <td>2018-03-31</td>\n",
       "      <td>2018-05-07</td>\n",
       "      <td>2018</td>\n",
       "      <td>13</td>\n",
       "    </tr>\n",
       "    <tr>\n",
       "      <th>3</th>\n",
       "      <td>2017-2018</td>\n",
       "      <td>7728PL</td>\n",
       "      <td>Issued</td>\n",
       "      <td>B</td>\n",
       "      <td>POSITIVE</td>\n",
       "      <td>PLASMA</td>\n",
       "      <td>2017-10-02</td>\n",
       "      <td>2017-10-22</td>\n",
       "      <td>2018-10-02</td>\n",
       "      <td>2017</td>\n",
       "      <td>42</td>\n",
       "    </tr>\n",
       "    <tr>\n",
       "      <th>5</th>\n",
       "      <td>2017-2018</td>\n",
       "      <td>7730PL</td>\n",
       "      <td>Issued</td>\n",
       "      <td>B</td>\n",
       "      <td>POSITIVE</td>\n",
       "      <td>PLASMA</td>\n",
       "      <td>2017-10-02</td>\n",
       "      <td>2017-10-22</td>\n",
       "      <td>2018-10-02</td>\n",
       "      <td>2017</td>\n",
       "      <td>42</td>\n",
       "    </tr>\n",
       "    <tr>\n",
       "      <th>...</th>\n",
       "      <td>...</td>\n",
       "      <td>...</td>\n",
       "      <td>...</td>\n",
       "      <td>...</td>\n",
       "      <td>...</td>\n",
       "      <td>...</td>\n",
       "      <td>...</td>\n",
       "      <td>...</td>\n",
       "      <td>...</td>\n",
       "      <td>...</td>\n",
       "      <td>...</td>\n",
       "    </tr>\n",
       "    <tr>\n",
       "      <th>39747</th>\n",
       "      <td>2018-2019</td>\n",
       "      <td>8938PT</td>\n",
       "      <td>Issued</td>\n",
       "      <td>O</td>\n",
       "      <td>POSITIVE</td>\n",
       "      <td>PLATELETS</td>\n",
       "      <td>2018-09-30</td>\n",
       "      <td>2018-09-30</td>\n",
       "      <td>2018-10-06</td>\n",
       "      <td>2018</td>\n",
       "      <td>39</td>\n",
       "    </tr>\n",
       "    <tr>\n",
       "      <th>39748</th>\n",
       "      <td>2018-2019</td>\n",
       "      <td>8940PR</td>\n",
       "      <td>Issued</td>\n",
       "      <td>B</td>\n",
       "      <td>POSITIVE</td>\n",
       "      <td>PACKED RED CELLS</td>\n",
       "      <td>2018-09-30</td>\n",
       "      <td>2018-10-07</td>\n",
       "      <td>2018-11-10</td>\n",
       "      <td>2018</td>\n",
       "      <td>40</td>\n",
       "    </tr>\n",
       "    <tr>\n",
       "      <th>39749</th>\n",
       "      <td>2018-2019</td>\n",
       "      <td>8945PR</td>\n",
       "      <td>Issued</td>\n",
       "      <td>O</td>\n",
       "      <td>POSITIVE</td>\n",
       "      <td>PACKED RED CELLS</td>\n",
       "      <td>2018-09-30</td>\n",
       "      <td>2018-10-07</td>\n",
       "      <td>2018-11-10</td>\n",
       "      <td>2018</td>\n",
       "      <td>40</td>\n",
       "    </tr>\n",
       "    <tr>\n",
       "      <th>39750</th>\n",
       "      <td>2018-2019</td>\n",
       "      <td>8946PR</td>\n",
       "      <td>Issued</td>\n",
       "      <td>B</td>\n",
       "      <td>POSITIVE</td>\n",
       "      <td>PACKED RED CELLS</td>\n",
       "      <td>2018-09-30</td>\n",
       "      <td>2018-10-07</td>\n",
       "      <td>2018-11-10</td>\n",
       "      <td>2018</td>\n",
       "      <td>40</td>\n",
       "    </tr>\n",
       "    <tr>\n",
       "      <th>39751</th>\n",
       "      <td>2018-2019</td>\n",
       "      <td>8951PR</td>\n",
       "      <td>Issued</td>\n",
       "      <td>O</td>\n",
       "      <td>POSITIVE</td>\n",
       "      <td>PACKED RED CELLS</td>\n",
       "      <td>2018-09-30</td>\n",
       "      <td>2018-10-07</td>\n",
       "      <td>2018-11-10</td>\n",
       "      <td>2018</td>\n",
       "      <td>40</td>\n",
       "    </tr>\n",
       "  </tbody>\n",
       "</table>\n",
       "<p>35249 rows × 11 columns</p>\n",
       "</div>"
      ],
      "text/plain": [
       "      Financial Year Bag Number Status Description Blood Group        RH  \\\n",
       "0          2017-2018      112PR             Issued           A  POSITIVE   \n",
       "1          2017-2018      118PR             Issued           A  POSITIVE   \n",
       "2          2017-2018      163PR             Issued           O  POSITIVE   \n",
       "3          2017-2018     7728PL             Issued           B  POSITIVE   \n",
       "5          2017-2018     7730PL             Issued           B  POSITIVE   \n",
       "...              ...        ...                ...         ...       ...   \n",
       "39747      2018-2019     8938PT             Issued           O  POSITIVE   \n",
       "39748      2018-2019     8940PR             Issued           B  POSITIVE   \n",
       "39749      2018-2019     8945PR             Issued           O  POSITIVE   \n",
       "39750      2018-2019     8946PR             Issued           B  POSITIVE   \n",
       "39751      2018-2019     8951PR             Issued           O  POSITIVE   \n",
       "\n",
       "      Blood Classification Stock Creation Date Stock Issue Date Expiry Date  \\\n",
       "0         PACKED RED CELLS          2018-01-01       2018-01-03  2018-02-09   \n",
       "1         PACKED RED CELLS          2017-12-31       2017-12-31  2018-01-29   \n",
       "2         PACKED RED CELLS          2018-03-27       2018-03-31  2018-05-07   \n",
       "3                   PLASMA          2017-10-02       2017-10-22  2018-10-02   \n",
       "5                   PLASMA          2017-10-02       2017-10-22  2018-10-02   \n",
       "...                    ...                 ...              ...         ...   \n",
       "39747            PLATELETS          2018-09-30       2018-09-30  2018-10-06   \n",
       "39748     PACKED RED CELLS          2018-09-30       2018-10-07  2018-11-10   \n",
       "39749     PACKED RED CELLS          2018-09-30       2018-10-07  2018-11-10   \n",
       "39750     PACKED RED CELLS          2018-09-30       2018-10-07  2018-11-10   \n",
       "39751     PACKED RED CELLS          2018-09-30       2018-10-07  2018-11-10   \n",
       "\n",
       "       Year  Week  \n",
       "0      2018     1  \n",
       "1      2017    52  \n",
       "2      2018    13  \n",
       "3      2017    42  \n",
       "5      2017    42  \n",
       "...     ...   ...  \n",
       "39747  2018    39  \n",
       "39748  2018    40  \n",
       "39749  2018    40  \n",
       "39750  2018    40  \n",
       "39751  2018    40  \n",
       "\n",
       "[35249 rows x 11 columns]"
      ]
     },
     "execution_count": 11,
     "metadata": {},
     "output_type": "execute_result"
    }
   ],
   "source": [
    "df"
   ]
  },
  {
   "cell_type": "code",
   "execution_count": 12,
   "id": "ddcd069a",
   "metadata": {},
   "outputs": [
    {
     "data": {
      "text/html": [
       "<div>\n",
       "<style scoped>\n",
       "    .dataframe tbody tr th:only-of-type {\n",
       "        vertical-align: middle;\n",
       "    }\n",
       "\n",
       "    .dataframe tbody tr th {\n",
       "        vertical-align: top;\n",
       "    }\n",
       "\n",
       "    .dataframe thead th {\n",
       "        text-align: right;\n",
       "    }\n",
       "</style>\n",
       "<table border=\"1\" class=\"dataframe\">\n",
       "  <thead>\n",
       "    <tr style=\"text-align: right;\">\n",
       "      <th></th>\n",
       "      <th>Blood Classification</th>\n",
       "      <th>Year</th>\n",
       "      <th>Week</th>\n",
       "      <th>Demand</th>\n",
       "    </tr>\n",
       "  </thead>\n",
       "  <tbody>\n",
       "    <tr>\n",
       "      <th>0</th>\n",
       "      <td>CRYO</td>\n",
       "      <td>2017</td>\n",
       "      <td>42</td>\n",
       "      <td>1</td>\n",
       "    </tr>\n",
       "    <tr>\n",
       "      <th>1</th>\n",
       "      <td>CRYO</td>\n",
       "      <td>2017</td>\n",
       "      <td>47</td>\n",
       "      <td>2</td>\n",
       "    </tr>\n",
       "    <tr>\n",
       "      <th>2</th>\n",
       "      <td>CRYO</td>\n",
       "      <td>2017</td>\n",
       "      <td>51</td>\n",
       "      <td>3</td>\n",
       "    </tr>\n",
       "    <tr>\n",
       "      <th>3</th>\n",
       "      <td>CRYO</td>\n",
       "      <td>2017</td>\n",
       "      <td>52</td>\n",
       "      <td>2</td>\n",
       "    </tr>\n",
       "    <tr>\n",
       "      <th>4</th>\n",
       "      <td>CRYO</td>\n",
       "      <td>2018</td>\n",
       "      <td>1</td>\n",
       "      <td>3</td>\n",
       "    </tr>\n",
       "    <tr>\n",
       "      <th>...</th>\n",
       "      <td>...</td>\n",
       "      <td>...</td>\n",
       "      <td>...</td>\n",
       "      <td>...</td>\n",
       "    </tr>\n",
       "    <tr>\n",
       "      <th>262</th>\n",
       "      <td>WHOLE BLOOD</td>\n",
       "      <td>2018</td>\n",
       "      <td>36</td>\n",
       "      <td>30</td>\n",
       "    </tr>\n",
       "    <tr>\n",
       "      <th>263</th>\n",
       "      <td>WHOLE BLOOD</td>\n",
       "      <td>2018</td>\n",
       "      <td>37</td>\n",
       "      <td>15</td>\n",
       "    </tr>\n",
       "    <tr>\n",
       "      <th>264</th>\n",
       "      <td>WHOLE BLOOD</td>\n",
       "      <td>2018</td>\n",
       "      <td>38</td>\n",
       "      <td>20</td>\n",
       "    </tr>\n",
       "    <tr>\n",
       "      <th>265</th>\n",
       "      <td>WHOLE BLOOD</td>\n",
       "      <td>2018</td>\n",
       "      <td>39</td>\n",
       "      <td>35</td>\n",
       "    </tr>\n",
       "    <tr>\n",
       "      <th>266</th>\n",
       "      <td>WHOLE BLOOD</td>\n",
       "      <td>2018</td>\n",
       "      <td>40</td>\n",
       "      <td>12</td>\n",
       "    </tr>\n",
       "  </tbody>\n",
       "</table>\n",
       "<p>267 rows × 4 columns</p>\n",
       "</div>"
      ],
      "text/plain": [
       "    Blood Classification  Year  Week  Demand\n",
       "0                   CRYO  2017    42       1\n",
       "1                   CRYO  2017    47       2\n",
       "2                   CRYO  2017    51       3\n",
       "3                   CRYO  2017    52       2\n",
       "4                   CRYO  2018     1       3\n",
       "..                   ...   ...   ...     ...\n",
       "262          WHOLE BLOOD  2018    36      30\n",
       "263          WHOLE BLOOD  2018    37      15\n",
       "264          WHOLE BLOOD  2018    38      20\n",
       "265          WHOLE BLOOD  2018    39      35\n",
       "266          WHOLE BLOOD  2018    40      12\n",
       "\n",
       "[267 rows x 4 columns]"
      ]
     },
     "execution_count": 12,
     "metadata": {},
     "output_type": "execute_result"
    }
   ],
   "source": [
    "# Calculate the weekly demand for each blood component\n",
    "weekly_demand = df.groupby(['Blood Classification','Year','Week']).size().reset_index(name='Demand')\n",
    "weekly_demand"
   ]
  },
  {
   "cell_type": "code",
   "execution_count": 13,
   "id": "568f452b",
   "metadata": {},
   "outputs": [
    {
     "data": {
      "text/plain": [
       "array(['PACKED RED CELLS', 'PLASMA', 'WHOLE BLOOD', 'CRYO',\n",
       "       'FRESH FROZEN PLASMA', 'PLATELETS', 'SINGLE DONOR PLATELET'],\n",
       "      dtype=object)"
      ]
     },
     "execution_count": 13,
     "metadata": {},
     "output_type": "execute_result"
    }
   ],
   "source": [
    "df['Blood Classification'].unique()"
   ]
  },
  {
   "cell_type": "code",
   "execution_count": 14,
   "id": "5f51e8f9",
   "metadata": {},
   "outputs": [],
   "source": [
    "# Defining blood component types\n",
    "blood_types = ['PLASMA','PACKED RED CELLS','CRYO','FRESH FROZEN PLASMA','PLATELETS','WHOLE BLOOD']"
   ]
  },
  {
   "cell_type": "code",
   "execution_count": 15,
   "id": "e6c090d7",
   "metadata": {},
   "outputs": [],
   "source": [
    "# Initialize an empty DataFrame\n",
    "data_filtered_combined = pd.DataFrame()"
   ]
  },
  {
   "cell_type": "code",
   "execution_count": 16,
   "id": "53e18501",
   "metadata": {},
   "outputs": [],
   "source": [
    "for blood_type in blood_types:\n",
    "    # Filter data and directly append it to data_filtered_combined\n",
    "    data_filtered_combined = pd.concat([data_filtered_combined, weekly_demand[weekly_demand['Blood Classification'] == blood_type]])"
   ]
  },
  {
   "cell_type": "code",
   "execution_count": 17,
   "id": "283b015d",
   "metadata": {},
   "outputs": [
    {
     "data": {
      "text/html": [
       "<div>\n",
       "<style scoped>\n",
       "    .dataframe tbody tr th:only-of-type {\n",
       "        vertical-align: middle;\n",
       "    }\n",
       "\n",
       "    .dataframe tbody tr th {\n",
       "        vertical-align: top;\n",
       "    }\n",
       "\n",
       "    .dataframe thead th {\n",
       "        text-align: right;\n",
       "    }\n",
       "</style>\n",
       "<table border=\"1\" class=\"dataframe\">\n",
       "  <thead>\n",
       "    <tr style=\"text-align: right;\">\n",
       "      <th></th>\n",
       "      <th>Blood Classification</th>\n",
       "      <th>Year</th>\n",
       "      <th>Week</th>\n",
       "      <th>Demand</th>\n",
       "    </tr>\n",
       "  </thead>\n",
       "  <tbody>\n",
       "    <tr>\n",
       "      <th>0</th>\n",
       "      <td>PLASMA</td>\n",
       "      <td>2017</td>\n",
       "      <td>42</td>\n",
       "      <td>100</td>\n",
       "    </tr>\n",
       "    <tr>\n",
       "      <th>1</th>\n",
       "      <td>PLASMA</td>\n",
       "      <td>2017</td>\n",
       "      <td>52</td>\n",
       "      <td>111</td>\n",
       "    </tr>\n",
       "    <tr>\n",
       "      <th>2</th>\n",
       "      <td>PLASMA</td>\n",
       "      <td>2018</td>\n",
       "      <td>16</td>\n",
       "      <td>114</td>\n",
       "    </tr>\n",
       "    <tr>\n",
       "      <th>3</th>\n",
       "      <td>PLASMA</td>\n",
       "      <td>2018</td>\n",
       "      <td>33</td>\n",
       "      <td>10</td>\n",
       "    </tr>\n",
       "    <tr>\n",
       "      <th>4</th>\n",
       "      <td>PLASMA</td>\n",
       "      <td>2018</td>\n",
       "      <td>37</td>\n",
       "      <td>5</td>\n",
       "    </tr>\n",
       "    <tr>\n",
       "      <th>...</th>\n",
       "      <td>...</td>\n",
       "      <td>...</td>\n",
       "      <td>...</td>\n",
       "      <td>...</td>\n",
       "    </tr>\n",
       "    <tr>\n",
       "      <th>232</th>\n",
       "      <td>WHOLE BLOOD</td>\n",
       "      <td>2018</td>\n",
       "      <td>36</td>\n",
       "      <td>30</td>\n",
       "    </tr>\n",
       "    <tr>\n",
       "      <th>233</th>\n",
       "      <td>WHOLE BLOOD</td>\n",
       "      <td>2018</td>\n",
       "      <td>37</td>\n",
       "      <td>15</td>\n",
       "    </tr>\n",
       "    <tr>\n",
       "      <th>234</th>\n",
       "      <td>WHOLE BLOOD</td>\n",
       "      <td>2018</td>\n",
       "      <td>38</td>\n",
       "      <td>20</td>\n",
       "    </tr>\n",
       "    <tr>\n",
       "      <th>235</th>\n",
       "      <td>WHOLE BLOOD</td>\n",
       "      <td>2018</td>\n",
       "      <td>39</td>\n",
       "      <td>35</td>\n",
       "    </tr>\n",
       "    <tr>\n",
       "      <th>236</th>\n",
       "      <td>WHOLE BLOOD</td>\n",
       "      <td>2018</td>\n",
       "      <td>40</td>\n",
       "      <td>12</td>\n",
       "    </tr>\n",
       "  </tbody>\n",
       "</table>\n",
       "<p>237 rows × 4 columns</p>\n",
       "</div>"
      ],
      "text/plain": [
       "    Blood Classification  Year  Week  Demand\n",
       "0                 PLASMA  2017    42     100\n",
       "1                 PLASMA  2017    52     111\n",
       "2                 PLASMA  2018    16     114\n",
       "3                 PLASMA  2018    33      10\n",
       "4                 PLASMA  2018    37       5\n",
       "..                   ...   ...   ...     ...\n",
       "232          WHOLE BLOOD  2018    36      30\n",
       "233          WHOLE BLOOD  2018    37      15\n",
       "234          WHOLE BLOOD  2018    38      20\n",
       "235          WHOLE BLOOD  2018    39      35\n",
       "236          WHOLE BLOOD  2018    40      12\n",
       "\n",
       "[237 rows x 4 columns]"
      ]
     },
     "execution_count": 17,
     "metadata": {},
     "output_type": "execute_result"
    }
   ],
   "source": [
    "# Reset Index\n",
    "data_filtered_combined.reset_index(drop=True, inplace=True)\n",
    "data_filtered_combined"
   ]
  },
  {
   "cell_type": "code",
   "execution_count": null,
   "id": "f5b71e5d",
   "metadata": {},
   "outputs": [],
   "source": []
  },
  {
   "cell_type": "code",
   "execution_count": 18,
   "id": "f344fb35",
   "metadata": {},
   "outputs": [
    {
     "data": {
      "text/html": [
       "<div>\n",
       "<style scoped>\n",
       "    .dataframe tbody tr th:only-of-type {\n",
       "        vertical-align: middle;\n",
       "    }\n",
       "\n",
       "    .dataframe tbody tr th {\n",
       "        vertical-align: top;\n",
       "    }\n",
       "\n",
       "    .dataframe thead th {\n",
       "        text-align: right;\n",
       "    }\n",
       "</style>\n",
       "<table border=\"1\" class=\"dataframe\">\n",
       "  <thead>\n",
       "    <tr style=\"text-align: right;\">\n",
       "      <th></th>\n",
       "      <th>Financial Year</th>\n",
       "      <th>Bag Number</th>\n",
       "      <th>Status Description</th>\n",
       "      <th>Blood Group</th>\n",
       "      <th>RH</th>\n",
       "      <th>Blood Classification</th>\n",
       "      <th>Stock Creation Date</th>\n",
       "      <th>Stock Issue Date</th>\n",
       "      <th>Expiry Date</th>\n",
       "      <th>Year</th>\n",
       "      <th>Week</th>\n",
       "    </tr>\n",
       "  </thead>\n",
       "  <tbody>\n",
       "    <tr>\n",
       "      <th>192</th>\n",
       "      <td>2017-2018</td>\n",
       "      <td>8031PT</td>\n",
       "      <td>Issued</td>\n",
       "      <td>B</td>\n",
       "      <td>POSITIVE</td>\n",
       "      <td>PLATELETS</td>\n",
       "      <td>2017-10-06</td>\n",
       "      <td>2017-10-09</td>\n",
       "      <td>2017-10-12</td>\n",
       "      <td>2017</td>\n",
       "      <td>41</td>\n",
       "    </tr>\n",
       "  </tbody>\n",
       "</table>\n",
       "</div>"
      ],
      "text/plain": [
       "    Financial Year Bag Number Status Description Blood Group        RH  \\\n",
       "192      2017-2018     8031PT             Issued           B  POSITIVE   \n",
       "\n",
       "    Blood Classification Stock Creation Date Stock Issue Date Expiry Date  \\\n",
       "192            PLATELETS          2017-10-06       2017-10-09  2017-10-12   \n",
       "\n",
       "     Year  Week  \n",
       "192  2017    41  "
      ]
     },
     "execution_count": 18,
     "metadata": {},
     "output_type": "execute_result"
    }
   ],
   "source": [
    "# Find the week of 2017-10-09\n",
    "train_start_time = '2017-10-09'\n",
    "specific_week_info = df[df['Stock Issue Date'] == train_start_time]\n",
    "specific_week_info.head(1)"
   ]
  },
  {
   "cell_type": "code",
   "execution_count": 19,
   "id": "67c6f2b1",
   "metadata": {},
   "outputs": [
    {
     "data": {
      "text/html": [
       "<div>\n",
       "<style scoped>\n",
       "    .dataframe tbody tr th:only-of-type {\n",
       "        vertical-align: middle;\n",
       "    }\n",
       "\n",
       "    .dataframe tbody tr th {\n",
       "        vertical-align: top;\n",
       "    }\n",
       "\n",
       "    .dataframe thead th {\n",
       "        text-align: right;\n",
       "    }\n",
       "</style>\n",
       "<table border=\"1\" class=\"dataframe\">\n",
       "  <thead>\n",
       "    <tr style=\"text-align: right;\">\n",
       "      <th></th>\n",
       "      <th>Financial Year</th>\n",
       "      <th>Bag Number</th>\n",
       "      <th>Status Description</th>\n",
       "      <th>Blood Group</th>\n",
       "      <th>RH</th>\n",
       "      <th>Blood Classification</th>\n",
       "      <th>Stock Creation Date</th>\n",
       "      <th>Stock Issue Date</th>\n",
       "      <th>Expiry Date</th>\n",
       "      <th>Year</th>\n",
       "      <th>Week</th>\n",
       "    </tr>\n",
       "  </thead>\n",
       "  <tbody>\n",
       "    <tr>\n",
       "      <th>25527</th>\n",
       "      <td>2018-2019</td>\n",
       "      <td>3311FP</td>\n",
       "      <td>Issued</td>\n",
       "      <td>A</td>\n",
       "      <td>POSITIVE</td>\n",
       "      <td>FRESH FROZEN PLASMA</td>\n",
       "      <td>2018-06-17</td>\n",
       "      <td>2018-07-28</td>\n",
       "      <td>2019-06-17</td>\n",
       "      <td>2018</td>\n",
       "      <td>30</td>\n",
       "    </tr>\n",
       "  </tbody>\n",
       "</table>\n",
       "</div>"
      ],
      "text/plain": [
       "      Financial Year Bag Number Status Description Blood Group        RH  \\\n",
       "25527      2018-2019     3311FP             Issued           A  POSITIVE   \n",
       "\n",
       "      Blood Classification Stock Creation Date Stock Issue Date Expiry Date  \\\n",
       "25527  FRESH FROZEN PLASMA          2018-06-17       2018-07-28  2019-06-17   \n",
       "\n",
       "       Year  Week  \n",
       "25527  2018    30  "
      ]
     },
     "execution_count": 19,
     "metadata": {},
     "output_type": "execute_result"
    }
   ],
   "source": [
    "# Find the week of 2018-07-28\n",
    "train_end_time = '2018-07-28'\n",
    "specific_week_info = df[df['Stock Issue Date'] == train_end_time]\n",
    "specific_week_info.head(1)"
   ]
  },
  {
   "cell_type": "code",
   "execution_count": 20,
   "id": "9c417939",
   "metadata": {},
   "outputs": [
    {
     "data": {
      "text/html": [
       "<div>\n",
       "<style scoped>\n",
       "    .dataframe tbody tr th:only-of-type {\n",
       "        vertical-align: middle;\n",
       "    }\n",
       "\n",
       "    .dataframe tbody tr th {\n",
       "        vertical-align: top;\n",
       "    }\n",
       "\n",
       "    .dataframe thead th {\n",
       "        text-align: right;\n",
       "    }\n",
       "</style>\n",
       "<table border=\"1\" class=\"dataframe\">\n",
       "  <thead>\n",
       "    <tr style=\"text-align: right;\">\n",
       "      <th></th>\n",
       "      <th>Financial Year</th>\n",
       "      <th>Bag Number</th>\n",
       "      <th>Status Description</th>\n",
       "      <th>Blood Group</th>\n",
       "      <th>RH</th>\n",
       "      <th>Blood Classification</th>\n",
       "      <th>Stock Creation Date</th>\n",
       "      <th>Stock Issue Date</th>\n",
       "      <th>Expiry Date</th>\n",
       "      <th>Year</th>\n",
       "      <th>Week</th>\n",
       "    </tr>\n",
       "  </thead>\n",
       "  <tbody>\n",
       "    <tr>\n",
       "      <th>27350</th>\n",
       "      <td>2018-2019</td>\n",
       "      <td>4104PR</td>\n",
       "      <td>Issued</td>\n",
       "      <td>O</td>\n",
       "      <td>POSITIVE</td>\n",
       "      <td>PACKED RED CELLS</td>\n",
       "      <td>2018-07-04</td>\n",
       "      <td>2018-07-29</td>\n",
       "      <td>2018-09-04</td>\n",
       "      <td>2018</td>\n",
       "      <td>30</td>\n",
       "    </tr>\n",
       "  </tbody>\n",
       "</table>\n",
       "</div>"
      ],
      "text/plain": [
       "      Financial Year Bag Number Status Description Blood Group        RH  \\\n",
       "27350      2018-2019     4104PR             Issued           O  POSITIVE   \n",
       "\n",
       "      Blood Classification Stock Creation Date Stock Issue Date Expiry Date  \\\n",
       "27350     PACKED RED CELLS          2018-07-04       2018-07-29  2018-09-04   \n",
       "\n",
       "       Year  Week  \n",
       "27350  2018    30  "
      ]
     },
     "execution_count": 20,
     "metadata": {},
     "output_type": "execute_result"
    }
   ],
   "source": [
    "# Find the week of 2018-07-29\n",
    "test_start_time = '2018-07-29'\n",
    "specific_week_info = df[df['Stock Issue Date'] == test_start_time]\n",
    "specific_week_info.head(1)"
   ]
  },
  {
   "cell_type": "code",
   "execution_count": 21,
   "id": "50523f81",
   "metadata": {},
   "outputs": [
    {
     "data": {
      "text/html": [
       "<div>\n",
       "<style scoped>\n",
       "    .dataframe tbody tr th:only-of-type {\n",
       "        vertical-align: middle;\n",
       "    }\n",
       "\n",
       "    .dataframe tbody tr th {\n",
       "        vertical-align: top;\n",
       "    }\n",
       "\n",
       "    .dataframe thead th {\n",
       "        text-align: right;\n",
       "    }\n",
       "</style>\n",
       "<table border=\"1\" class=\"dataframe\">\n",
       "  <thead>\n",
       "    <tr style=\"text-align: right;\">\n",
       "      <th></th>\n",
       "      <th>Financial Year</th>\n",
       "      <th>Bag Number</th>\n",
       "      <th>Status Description</th>\n",
       "      <th>Blood Group</th>\n",
       "      <th>RH</th>\n",
       "      <th>Blood Classification</th>\n",
       "      <th>Stock Creation Date</th>\n",
       "      <th>Stock Issue Date</th>\n",
       "      <th>Expiry Date</th>\n",
       "      <th>Year</th>\n",
       "      <th>Week</th>\n",
       "    </tr>\n",
       "  </thead>\n",
       "  <tbody>\n",
       "    <tr>\n",
       "      <th>33199</th>\n",
       "      <td>2018-2019</td>\n",
       "      <td>6745PR</td>\n",
       "      <td>Issued</td>\n",
       "      <td>B</td>\n",
       "      <td>POSITIVE</td>\n",
       "      <td>PACKED RED CELLS</td>\n",
       "      <td>2018-08-24</td>\n",
       "      <td>2018-09-29</td>\n",
       "      <td>2018-10-03</td>\n",
       "      <td>2018</td>\n",
       "      <td>39</td>\n",
       "    </tr>\n",
       "  </tbody>\n",
       "</table>\n",
       "</div>"
      ],
      "text/plain": [
       "      Financial Year Bag Number Status Description Blood Group        RH  \\\n",
       "33199      2018-2019     6745PR             Issued           B  POSITIVE   \n",
       "\n",
       "      Blood Classification Stock Creation Date Stock Issue Date Expiry Date  \\\n",
       "33199     PACKED RED CELLS          2018-08-24       2018-09-29  2018-10-03   \n",
       "\n",
       "       Year  Week  \n",
       "33199  2018    39  "
      ]
     },
     "execution_count": 21,
     "metadata": {},
     "output_type": "execute_result"
    }
   ],
   "source": [
    "# Find the week of 2018-09-29\n",
    "test_end_time = '2018-09-29'\n",
    "specific_week_info = df[df['Stock Issue Date'] == test_end_time]\n",
    "specific_week_info.head(1)"
   ]
  },
  {
   "cell_type": "code",
   "execution_count": null,
   "id": "e1dc8a30",
   "metadata": {},
   "outputs": [],
   "source": []
  },
  {
   "cell_type": "code",
   "execution_count": 22,
   "id": "0aacce87",
   "metadata": {},
   "outputs": [],
   "source": [
    "# Split into training and testing sets\n",
    "train_weeks = data_filtered_combined[((data_filtered_combined['Year'] == 2017)& (data_filtered_combined['Week'] >= 41) | \n",
    "                                      (data_filtered_combined['Year'] == 2018)) & (data_filtered_combined['Week'] <= 30)]\n",
    "\n",
    "test_weeks = data_filtered_combined[(data_filtered_combined['Year'] == 2018) & (data_filtered_combined['Week'] > 30) | \n",
    "                                    (data_filtered_combined['Year'] == 2018) & (data_filtered_combined['Week'] <= 39)]"
   ]
  },
  {
   "cell_type": "code",
   "execution_count": 23,
   "id": "b8074326",
   "metadata": {},
   "outputs": [],
   "source": [
    "# Split data\n",
    "X_train = train_weeks[['Year', 'Week']]\n",
    "y_train = train_weeks['Demand']\n",
    "X_test = test_weeks[['Year', 'Week']]\n",
    "y_test = test_weeks['Demand']"
   ]
  },
  {
   "cell_type": "code",
   "execution_count": 66,
   "id": "5676cd91",
   "metadata": {},
   "outputs": [],
   "source": [
    "# Training K-nearest neighbor regression model\n",
    "knn = KNeighborsRegressor(n_neighbors=5)\n",
    "knn.fit(X_train, y_train)\n",
    "y_pred_knn = knn.predict(X_test)"
   ]
  },
  {
   "cell_type": "code",
   "execution_count": 67,
   "id": "50e0bf0c",
   "metadata": {},
   "outputs": [
    {
     "data": {
      "text/plain": [
       "297.0245584532099"
      ]
     },
     "execution_count": 67,
     "metadata": {},
     "output_type": "execute_result"
    }
   ],
   "source": [
    "rmse_knn = np.sqrt(mean_squared_error(y_test, y_pred_knn))\n",
    "rmse_knn"
   ]
  },
  {
   "cell_type": "code",
   "execution_count": 68,
   "id": "db1b015e",
   "metadata": {},
   "outputs": [
    {
     "data": {
      "text/plain": [
       "512.7659912232025"
      ]
     },
     "execution_count": 68,
     "metadata": {},
     "output_type": "execute_result"
    }
   ],
   "source": [
    "mape_knn = np.mean(np.abs((y_test - y_pred_knn) / y_test)) * 100\n",
    "mape_knn"
   ]
  },
  {
   "cell_type": "code",
   "execution_count": 27,
   "id": "e3b0487b",
   "metadata": {},
   "outputs": [],
   "source": [
    "# Visualize the relationship between K-value and MAPE and RMSE\n",
    "k_values = range(1, 11)\n",
    "mape_values = []\n",
    "rmse_values = []"
   ]
  },
  {
   "cell_type": "code",
   "execution_count": 28,
   "id": "de0e263d",
   "metadata": {},
   "outputs": [],
   "source": [
    "for k in k_values:\n",
    "    knn = KNeighborsRegressor(n_neighbors=k)\n",
    "    knn.fit(X_train, y_train)\n",
    "    y_pred_knn = knn.predict(X_test)\n",
    "    mape = np.mean(np.abs((y_test - y_pred_knn) / y_test)) * 100\n",
    "    rmse = np.sqrt(mean_squared_error(y_test, y_pred_knn))\n",
    "    mape_values.append(mape)\n",
    "    rmse_values.append(rmse)"
   ]
  },
  {
   "cell_type": "code",
   "execution_count": 30,
   "id": "97a1326b",
   "metadata": {},
   "outputs": [],
   "source": [
    "import matplotlib.pyplot as plt"
   ]
  },
  {
   "cell_type": "code",
   "execution_count": 31,
   "id": "82102fa3",
   "metadata": {},
   "outputs": [
    {
     "data": {
      "image/png": "[encoded data removed]",
      "text/plain": [
       "<Figure size 1000x600 with 1 Axes>"
      ]
     },
     "metadata": {},
     "output_type": "display_data"
    }
   ],
   "source": [
    "# Visualization\n",
    "plt.figure(figsize=(10, 6))\n",
    "plt.plot(k_values, mape_values, marker='o', label='MAPE')\n",
    "plt.plot(k_values, rmse_values, marker='o', label='RMSE')\n",
    "plt.title('KNN: MAPE and RMSE vs. K Value')\n",
    "plt.xlabel('K Value')\n",
    "plt.ylabel('Metric Value')\n",
    "plt.legend()\n",
    "plt.show()"
   ]
  },
  {
   "cell_type": "markdown",
   "id": "c9961557",
   "metadata": {},
   "source": [
    "As the K value increases, performance may improve until a certain K value stabilizes the model performance. This inflection point corresponds to the k value we need."
   ]
  },
  {
   "cell_type": "code",
   "execution_count": null,
   "id": "c8194a60",
   "metadata": {},
   "outputs": [],
   "source": []
  },
  {
   "cell_type": "code",
   "execution_count": 74,
   "id": "f96f374f",
   "metadata": {},
   "outputs": [],
   "source": [
    "from sklearn.tree import DecisionTreeRegressor\n",
    "from sklearn.tree import plot_tree"
   ]
  },
  {
   "cell_type": "code",
   "execution_count": 70,
   "id": "d28c80a2",
   "metadata": {},
   "outputs": [],
   "source": [
    "# Decision Tree Regression\n",
    "tree = DecisionTreeRegressor()\n",
    "tree.fit(X_train, y_train)\n",
    "y_pred_tree = tree.predict(X_test)"
   ]
  },
  {
   "cell_type": "code",
   "execution_count": 71,
   "id": "34196046",
   "metadata": {},
   "outputs": [
    {
     "data": {
      "text/plain": [
       "488.10572777926114"
      ]
     },
     "execution_count": 71,
     "metadata": {},
     "output_type": "execute_result"
    }
   ],
   "source": [
    "mape_tree = np.mean(np.abs((y_test - y_pred_tree) / y_test)) * 100\n",
    "mape_tree"
   ]
  },
  {
   "cell_type": "code",
   "execution_count": 72,
   "id": "b4de9627",
   "metadata": {},
   "outputs": [
    {
     "data": {
      "text/plain": [
       "289.45747130397876"
      ]
     },
     "execution_count": 72,
     "metadata": {},
     "output_type": "execute_result"
    }
   ],
   "source": [
    "rmse_tree = np.sqrt(mean_squared_error(y_test, y_pred_tree))\n",
    "rmse_tree"
   ]
  },
  {
   "cell_type": "code",
   "execution_count": null,
   "id": "8dcabc5c",
   "metadata": {},
   "outputs": [],
   "source": []
  },
  {
   "cell_type": "code",
   "execution_count": 82,
   "id": "627d37a7",
   "metadata": {},
   "outputs": [
    {
     "data": {
      "image/png": "[encoded data removed]",
      "text/plain": [
       "<Figure size 1200x600 with 2 Axes>"
      ]
     },
     "metadata": {},
     "output_type": "display_data"
    }
   ],
   "source": [
    "# Visualize the predicted vs. actual values for both models\n",
    "plt.figure(figsize=(12, 6))\n",
    "\n",
    "plt.subplot(1, 2, 1)\n",
    "plt.scatter(y_test, y_pred_knn, color='blue')\n",
    "plt.plot([min(y_test), max(y_test)], [min(y_test), max(y_test)], linestyle='--', color='red', linewidth=2)\n",
    "plt.title('KNN: Predicted vs. Actual')\n",
    "plt.xlabel('Actual Demand')\n",
    "plt.ylabel('Predicted Demand')\n",
    "\n",
    "plt.subplot(1, 2, 2)\n",
    "plt.scatter(y_test, y_pred_tree, color='green')\n",
    "plt.plot([min(y_test), max(y_test)], [min(y_test), max(y_test)], linestyle='--', color='red', linewidth=2)\n",
    "plt.title('Decision Tree: Predicted vs. Actual')\n",
    "plt.xlabel('Actual Demand')\n",
    "plt.ylabel('Predicted Demand')\n",
    "\n",
    "plt.tight_layout()\n",
    "plt.show()"
   ]
  },
  {
   "cell_type": "code",
   "execution_count": 89,
   "id": "c56da79c",
   "metadata": {},
   "outputs": [
    {
     "data": {
      "image/png": "[encoded data removed]",
      "text/plain": [
       "<Figure size 1200x600 with 2 Axes>"
      ]
     },
     "metadata": {},
     "output_type": "display_data"
    }
   ],
   "source": [
    "# Zoom in the area where scattered points gather for analysis\n",
    "# Range for x/y is 0 - 350\n",
    "\n",
    "plt.figure(figsize=(12, 6))\n",
    "\n",
    "plt.subplot(1, 2, 1)\n",
    "plt.scatter(y_test, y_pred_knn, color='blue')\n",
    "plt.plot([min(y_test), max(y_test)], [min(y_test), max(y_test)], linestyle='--', color='red', linewidth=2)\n",
    "plt.ylim(0, 350)\n",
    "plt.xlim(0, 350)\n",
    "plt.title('KNN: Predicted vs. Actual')\n",
    "plt.xlabel('Actual Demand')\n",
    "plt.ylabel('Predicted Demand')\n",
    "\n",
    "plt.subplot(1, 2, 2)\n",
    "plt.scatter(y_test, y_pred_tree, color='green')\n",
    "plt.ylim(0, 350)\n",
    "plt.xlim(0, 350)\n",
    "plt.plot([min(y_test), max(y_test)], [min(y_test), max(y_test)], linestyle='--', color='red', linewidth=2)\n",
    "\n",
    "plt.title('Decision Tree: Predicted vs. Actual')\n",
    "plt.xlabel('Actual Demand')\n",
    "plt.ylabel('Predicted Demand')\n",
    "\n",
    "plt.tight_layout()\n",
    "plt.show()"
   ]
  },
  {
   "cell_type": "markdown",
   "id": "d9379c85",
   "metadata": {},
   "source": [
    "We can see that the scatter points of the decision tree revolve more around the dashed line."
   ]
  },
  {
   "cell_type": "code",
   "execution_count": null,
   "id": "5f945296",
   "metadata": {},
   "outputs": [],
   "source": []
  },
  {
   "cell_type": "code",
   "execution_count": 79,
   "id": "04d8ea81",
   "metadata": {},
   "outputs": [
    {
     "name": "stdout",
     "output_type": "stream",
     "text": [
      "KNN MAPE: 512.77%, RMSE: 297.02\n",
      "TREE MAPE: 488.11%, RMSE: 289.46\n"
     ]
    }
   ],
   "source": [
    "# Compare two model\n",
    "print(f'KNN MAPE: {mape_knn:.2f}%, RMSE: {rmse_knn:.2f}')\n",
    "print(f'TREE MAPE: {mape_tree:.2f}%, RMSE: {rmse_tree:.2f}')"
   ]
  },
  {
   "cell_type": "markdown",
   "id": "26b14738",
   "metadata": {},
   "source": [
    "MAPE is used to measure prediction accuracy. The lower the MAPE, the higher the prediction accuracy of the model.\n",
    "The decision tree model is slightly better than the KNN model.\n",
    "\n",
    "Compared to MAPE, RMSE imposes higher penalties for large errors and provides a standard measure of error. The lower the RMSE value, the better the predictive performance of the model.\n",
    "The decision tree model is also slightly better than the KNN model.\n",
    "\n",
    "According to scatter plot and calculation, we need to choose Decision Tree Regression model.\n"
   ]
  }
 ],
 "metadata": {
  "kernelspec": {
   "display_name": "Python 3 (ipykernel)",
   "language": "python",
   "name": "python3"
  },
  "language_info": {
   "codemirror_mode": {
    "name": "ipython",
    "version": 3
   },
   "file_extension": ".py",
   "mimetype": "text/x-python",
   "name": "python",
   "nbconvert_exporter": "python",
   "pygments_lexer": "ipython3",
   "version": "3.11.5"
  }
 },
 "nbformat": 4,
 "nbformat_minor": 5
}
